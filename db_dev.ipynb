{
 "cells": [
  {
   "cell_type": "code",
   "execution_count": 1,
   "metadata": {},
   "outputs": [],
   "source": [
    "import sqlite3 as lite\n",
    "import datetime as dt\n",
    "import sys\n",
    "import pandas as pd"
   ]
  },
  {
   "cell_type": "code",
   "execution_count": 2,
   "metadata": {},
   "outputs": [],
   "source": [
    "# %load 'helpers.py'\n",
    "# helper functions\n",
    "\n",
    "import adafruit_dht\n",
    "import board\n",
    "import time\n",
    "import psutil\n",
    "import sqlite3 as lite\n",
    "import sys\n",
    "import os\n",
    "\n",
    "def init_dht(model=22):\n",
    "    model = int(model)\n",
    "    print(model)\n",
    "    flag = True\n",
    "    while flag:\n",
    "        try:\n",
    "            print(\"attempting to initialize device...\")\n",
    "            if model == int(22):\n",
    "                print(\"DHT22...\")\n",
    "                dhtDevice = adafruit_dht.DHT22(board.D4)\n",
    "            elif model == int(11):\n",
    "                print(\"DHT11...\")\n",
    "                dhtDevice = adafruit_dht.DHT11(board.D4)\n",
    "            else:\n",
    "                print(\"incorrect DHT model number--enter '11' or '22'\")\n",
    "                return None\n",
    "            dhtDevice.temperature\n",
    "            print(\"successfully initialized DHT\" + str(model))\n",
    "\n",
    "        except RuntimeError as error:\n",
    "            print(error.args[0])\n",
    "            print(\"failed to initialize, cleaning up libgpio processes...\")\n",
    "            for p in psutil.process_iter():\n",
    "                if p.name()[:8] == 'libgpiod':\n",
    "                    print(\"killing {} (pid: {})\".format(p.name(), p.pid))\n",
    "                    p.kill()\n",
    "            time.sleep(5)\n",
    "            continue\n",
    "        flag = False\n",
    "    return dhtDevice\n",
    "\n",
    "\n",
    "def read_dht(dhtDevice, deg='F'):\n",
    "    while True:\n",
    "        try:\n",
    "            t = dhtDevice.temperature\n",
    "            h = dhtDevice.humidity\n",
    "            if deg == 'F':\n",
    "                t = t * (9 / 5) + 32\n",
    "            return (t, h)\n",
    "        except RuntimeError as error:\n",
    "            print(error.args[0])\n",
    "            time.sleep(2)\n",
    "\n",
    "\n",
    "def create_table(location, debug=False):\n",
    "    # Create DHT_data table if it doesn't exist already\n",
    "    if not os.path.isdir(location):\n",
    "        assert False, \"cannot create table, directory given (\" + location + \") does not exist!\"\n",
    "    con = lite.connect(os.path.join(location, 'sensorsData.db'))\n",
    "    with con:\n",
    "        cur = con.cursor()\n",
    "        #if table 'DHT_data' exists:\n",
    "        try:\n",
    "            cur.execute(\"CREATE TABLE DHT_data(timestamp DATETIME, temp NUMERIC, hum NUMERIC)\")\n",
    "            if debug:\n",
    "                print(\"Created DHT_data table\")\n",
    "        except:\n",
    "            if debug:\n",
    "                print(\"DHT_data table already exists\")\n",
    "    return con\n",
    "\n",
    "\n",
    "def add_entry(db, timestamp, temp, hum, debug=False):\n",
    "    # Add a temp/humidity reading to the database\n",
    "    with db as con:\n",
    "        cur = con.cursor()\n",
    "        if debug:\n",
    "            print(\"Adding DHT reading to DHT_data table: \", timestamp, temp, hum)\n",
    "        cur.execute(\"INSERT INTO DHT_data VALUES((?), (?), (?))\", (timestamp, temp, hum))"
   ]
  },
  {
   "cell_type": "code",
   "execution_count": 19,
   "metadata": {},
   "outputs": [
    {
     "name": "stdout",
     "output_type": "stream",
     "text": [
      "DHT_data table already exists\n"
     ]
    }
   ],
   "source": [
    "db_dir = '/home/pi/repos/humidity_logging/db'\n",
    "db = create_table(db_dir, debug=True)"
   ]
  },
  {
   "cell_type": "code",
   "execution_count": 4,
   "metadata": {},
   "outputs": [
    {
     "name": "stdout",
     "output_type": "stream",
     "text": [
      "22\n",
      "attempting to initialize device...\n",
      "DHT22...\n",
      "successfully initialized DHT22\n"
     ]
    }
   ],
   "source": [
    "DHT = init_dht(22)"
   ]
  },
  {
   "cell_type": "code",
   "execution_count": 5,
   "metadata": {},
   "outputs": [
    {
     "name": "stdout",
     "output_type": "stream",
     "text": [
      "Adding DHT reading to DHT_data table:  2020-12-13 12:23:54.209799 66.56 59.6\n"
     ]
    }
   ],
   "source": [
    "t, h = read_dht(DHT)\n",
    "now = dt.datetime.now()\n",
    "add_entry(db, now, t, h, debug=True)"
   ]
  },
  {
   "cell_type": "code",
   "execution_count": 6,
   "metadata": {},
   "outputs": [
    {
     "name": "stdout",
     "output_type": "stream",
     "text": [
      "Help on Connection object:\n",
      "\n",
      "class Connection(builtins.object)\n",
      " |  SQLite database connection object.\n",
      " |  \n",
      " |  Methods defined here:\n",
      " |  \n",
      " |  __call__(self, /, *args, **kwargs)\n",
      " |      Call self as a function.\n",
      " |  \n",
      " |  __enter__(...)\n",
      " |      For context manager. Non-standard.\n",
      " |  \n",
      " |  __exit__(...)\n",
      " |      For context manager. Non-standard.\n",
      " |  \n",
      " |  __init__(self, /, *args, **kwargs)\n",
      " |      Initialize self.  See help(type(self)) for accurate signature.\n",
      " |  \n",
      " |  backup(...)\n",
      " |      Makes a backup of the database. Non-standard.\n",
      " |  \n",
      " |  close(...)\n",
      " |      Closes the connection.\n",
      " |  \n",
      " |  commit(...)\n",
      " |      Commit the current transaction.\n",
      " |  \n",
      " |  create_aggregate(...)\n",
      " |      Creates a new aggregate. Non-standard.\n",
      " |  \n",
      " |  create_collation(...)\n",
      " |      Creates a collation function. Non-standard.\n",
      " |  \n",
      " |  create_function(...)\n",
      " |      Creates a new function. Non-standard.\n",
      " |  \n",
      " |  cursor(...)\n",
      " |      Return a cursor for the connection.\n",
      " |  \n",
      " |  enable_load_extension(...)\n",
      " |      Enable dynamic loading of SQLite extension modules. Non-standard.\n",
      " |  \n",
      " |  execute(...)\n",
      " |      Executes a SQL statement. Non-standard.\n",
      " |  \n",
      " |  executemany(...)\n",
      " |      Repeatedly executes a SQL statement. Non-standard.\n",
      " |  \n",
      " |  executescript(...)\n",
      " |      Executes a multiple SQL statements at once. Non-standard.\n",
      " |  \n",
      " |  interrupt(...)\n",
      " |      Abort any pending database operation. Non-standard.\n",
      " |  \n",
      " |  iterdump(...)\n",
      " |      Returns iterator to the dump of the database in an SQL text format. Non-standard.\n",
      " |  \n",
      " |  load_extension(...)\n",
      " |      Load SQLite extension module. Non-standard.\n",
      " |  \n",
      " |  rollback(...)\n",
      " |      Roll back the current transaction.\n",
      " |  \n",
      " |  set_authorizer(...)\n",
      " |      Sets authorizer callback. Non-standard.\n",
      " |  \n",
      " |  set_progress_handler(...)\n",
      " |      Sets progress handler callback. Non-standard.\n",
      " |  \n",
      " |  set_trace_callback(...)\n",
      " |      Sets a trace callback called for each SQL statement (passed as unicode). Non-standard.\n",
      " |  \n",
      " |  ----------------------------------------------------------------------\n",
      " |  Static methods defined here:\n",
      " |  \n",
      " |  __new__(*args, **kwargs) from builtins.type\n",
      " |      Create and return a new object.  See help(type) for accurate signature.\n",
      " |  \n",
      " |  ----------------------------------------------------------------------\n",
      " |  Data descriptors defined here:\n",
      " |  \n",
      " |  DataError\n",
      " |  \n",
      " |  DatabaseError\n",
      " |  \n",
      " |  Error\n",
      " |  \n",
      " |  IntegrityError\n",
      " |  \n",
      " |  InterfaceError\n",
      " |  \n",
      " |  InternalError\n",
      " |  \n",
      " |  NotSupportedError\n",
      " |  \n",
      " |  OperationalError\n",
      " |  \n",
      " |  ProgrammingError\n",
      " |  \n",
      " |  Warning\n",
      " |  \n",
      " |  in_transaction\n",
      " |  \n",
      " |  isolation_level\n",
      " |  \n",
      " |  row_factory\n",
      " |  \n",
      " |  text_factory\n",
      " |  \n",
      " |  total_changes\n",
      "\n"
     ]
    }
   ],
   "source": [
    "help(db)"
   ]
  },
  {
   "cell_type": "code",
   "execution_count": 20,
   "metadata": {},
   "outputs": [
    {
     "name": "stdout",
     "output_type": "stream",
     "text": [
      "BEGIN TRANSACTION;\n",
      "CREATE TABLE DHT_data(timestamp DATETIME, temp NUMERIC, hum NUMERIC);\n",
      "INSERT INTO \"DHT_data\" VALUES('2020-12-11 23:42:34.996891',62.96,61.9);\n",
      "INSERT INTO \"DHT_data\" VALUES('2020-12-11 23:43:35.402283',62.96,62);\n",
      "INSERT INTO \"DHT_data\" VALUES('2020-12-13 10:50:16.520659',66.2,61.1);\n",
      "INSERT INTO \"DHT_data\" VALUES('2020-12-13 10:50:54.251205',66.2,60.9);\n",
      "INSERT INTO \"DHT_data\" VALUES('2020-12-13 10:51:57.014126',66.2,60.8);\n",
      "INSERT INTO \"DHT_data\" VALUES('2020-12-13 10:57:31.549155',66.2,60.8);\n",
      "INSERT INTO \"DHT_data\" VALUES('2020-12-13 10:58:38.935832',66.2,60.6);\n",
      "INSERT INTO \"DHT_data\" VALUES('2020-12-13 11:00:59.412823',66.2,60.6);\n",
      "INSERT INTO \"DHT_data\" VALUES('2020-12-13 11:02:57.964563',66.2,60.9);\n",
      "COMMIT;\n"
     ]
    }
   ],
   "source": [
    "it = db.iterdump()\n",
    "\n",
    "for i in it:\n",
    "    print(i)"
   ]
  },
  {
   "cell_type": "code",
   "execution_count": 21,
   "metadata": {},
   "outputs": [],
   "source": [
    "df = pd.read_sql_query(\"SELECT * from DHT_data\", db)"
   ]
  },
  {
   "cell_type": "code",
   "execution_count": 22,
   "metadata": {},
   "outputs": [
    {
     "data": {
      "text/plain": [
       "array([61.9, 62. , 61.1, 60.9, 60.8, 60.8, 60.6, 60.6, 60.9])"
      ]
     },
     "execution_count": 22,
     "metadata": {},
     "output_type": "execute_result"
    }
   ],
   "source": [
    "df['hum'].values"
   ]
  }
 ],
 "metadata": {
  "kernelspec": {
   "display_name": "Python 3",
   "language": "python",
   "name": "python3"
  },
  "language_info": {
   "codemirror_mode": {
    "name": "ipython",
    "version": 3
   },
   "file_extension": ".py",
   "mimetype": "text/x-python",
   "name": "python",
   "nbconvert_exporter": "python",
   "pygments_lexer": "ipython3",
   "version": "3.7.3"
  }
 },
 "nbformat": 4,
 "nbformat_minor": 4
}
