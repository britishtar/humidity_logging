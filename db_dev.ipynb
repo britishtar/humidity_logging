{
 "cells": [
  {
   "cell_type": "code",
   "execution_count": 1,
   "metadata": {},
   "outputs": [],
   "source": [
    "import sqlite3 as lite\n",
    "import datetime as dt\n",
    "import sys"
   ]
  },
  {
   "cell_type": "code",
   "execution_count": 11,
   "metadata": {},
   "outputs": [],
   "source": [
    "# %load 'db_management.py'\n",
    "import sqlite3 as lite\n",
    "import sys\n",
    "\n",
    "\n",
    "def create_table(debug=False):\n",
    "    # Create DHT_data table if it doesn't exist already\n",
    "    con = lite.connect('sensorsData.db')\n",
    "    with con:\n",
    "        cur = con.cursor()\n",
    "        #if table 'DHT_data' exists:\n",
    "        try:\n",
    "            cur.execute(\"CREATE TABLE DHT_data(timestamp DATETIME, temp NUMERIC, hum NUMERIC)\")\n",
    "            if debug:\n",
    "                print(\"Created DHT_data table\")\n",
    "        except:\n",
    "            if debug:\n",
    "                print(\"DHT_data table already exists\")\n",
    "\n",
    "\n",
    "def add_entry(timestamp, temp, hum, debug=False):\n",
    "    # Ensure the 'sensorsData.db' exists:\n",
    "    create_table()\n",
    "    # Add a temp/humidity reading to the database\n",
    "    con = lite.connect('sensorsData.db')\n",
    "    with con:\n",
    "        cur = con.cursor()\n",
    "        if debug:\n",
    "            print(\"Adding DHT reading to DHT_data table: \", timestamp, temp, hum)\n",
    "        cur.execute(\"INSERT INTO DHT_data VALUES((?), (?), (?))\", (timestamp, temp, hum))\n",
    "\n",
    "\n"
   ]
  },
  {
   "cell_type": "code",
   "execution_count": 12,
   "metadata": {},
   "outputs": [],
   "source": [
    "# %load '../helpers.py'\n",
    "# helper functions\n",
    "\n",
    "import adafruit_dht\n",
    "import board\n",
    "import time\n",
    "import psutil\n",
    "\n",
    "def init_dht(model=22):\n",
    "    model = int(model)\n",
    "    print(model)\n",
    "    flag = True\n",
    "    while flag:\n",
    "        try:\n",
    "            print(\"attempting to initialize device...\")\n",
    "            if model == int(22):\n",
    "                print(\"DHT22...\")\n",
    "                dhtDevice = adafruit_dht.DHT22(board.D4)\n",
    "            elif model == int(11):\n",
    "                print(\"DHT11...\")\n",
    "                dhtDevice = adafruit_dht.DHT11(board.D4)\n",
    "            else:\n",
    "                print(\"incorrect DHT model number--enter '11' or '22'\")\n",
    "                return None\n",
    "            dhtDevice.temperature\n",
    "            print(\"successfully initialized DHT\" + str(model))\n",
    "\n",
    "        except RuntimeError as error:\n",
    "            print(error.args[0])\n",
    "            print(\"failed to initialize, cleaning up libgpio processes...\")\n",
    "            for p in psutil.process_iter():\n",
    "                if p.name()[:8] == 'libgpiod':\n",
    "                    print(\"killing {} (pid: {})\".format(p.name(), p.pid))\n",
    "                    p.kill()\n",
    "            time.sleep(5)\n",
    "            continue\n",
    "        flag = False\n",
    "    return dhtDevice\n",
    "\n",
    "\n",
    "def read_dht(dhtDevice, deg='F'):\n",
    "    while True:\n",
    "        try:\n",
    "            t = dhtDevice.temperature\n",
    "            h = dhtDevice.humidity\n",
    "            if deg == 'F':\n",
    "                t = t * (9 / 5) + 32\n",
    "            return (t, h)\n",
    "        except RuntimeError as error:\n",
    "            print(error.args[0])\n",
    "            time.sleep(2)\n",
    "\n",
    "\n"
   ]
  },
  {
   "cell_type": "code",
   "execution_count": 19,
   "metadata": {},
   "outputs": [
    {
     "name": "stdout",
     "output_type": "stream",
     "text": [
      "Created DHT_data table\n"
     ]
    }
   ],
   "source": [
    "create_table(debug=True)"
   ]
  },
  {
   "cell_type": "code",
   "execution_count": 14,
   "metadata": {},
   "outputs": [
    {
     "name": "stdout",
     "output_type": "stream",
     "text": [
      "22\n",
      "attempting to initialize device...\n",
      "DHT22...\n",
      "A full buffer was not returned. Try again.\n",
      "failed to initialize, cleaning up libgpio processes...\n",
      "killing libgpiod_pulsein (pid: 1381)\n",
      "attempting to initialize device...\n",
      "DHT22...\n",
      "A full buffer was not returned. Try again.\n",
      "failed to initialize, cleaning up libgpio processes...\n",
      "killing libgpiod_pulsei (pid: 1381)\n",
      "killing libgpiod_pulsein (pid: 1383)\n",
      "attempting to initialize device...\n",
      "DHT22...\n",
      "successfully initialized DHT22\n"
     ]
    }
   ],
   "source": [
    "DHT = init_dht(22)"
   ]
  },
  {
   "cell_type": "code",
   "execution_count": 18,
   "metadata": {},
   "outputs": [
    {
     "name": "stdout",
     "output_type": "stream",
     "text": [
      "Adding DHT reading to DHT_data table:  2020-12-11 22:58:38.836630 63.14 62.0\n"
     ]
    }
   ],
   "source": [
    "t, h = read_dht(DHT)\n",
    "now = dt.datetime.now()\n",
    "add_entry(now, t, h, debug=True)"
   ]
  },
  {
   "cell_type": "code",
   "execution_count": 37,
   "metadata": {},
   "outputs": [],
   "source": [
    "import sqlite3 as lite\n",
    "import sys\n",
    "\n",
    "def create_table(location, debug=False):\n",
    "    # Create DHT_data table if it doesn't exist already\n",
    "    con = lite.connect(os.path.join(location, 'sensorsData.db'))\n",
    "    with con:\n",
    "        cur = con.cursor()\n",
    "        #if table 'DHT_data' exists:\n",
    "        try:\n",
    "            cur.execute(\"CREATE TABLE DHT_data(timestamp DATETIME, temp NUMERIC, hum NUMERIC)\")\n",
    "            if debug:\n",
    "                print(\"Created DHT_data table\")\n",
    "        except:\n",
    "            if debug:\n",
    "                print(\"DHT_data table already exists\")\n",
    "    return con\n",
    "\n",
    "\n",
    "def add_entry(db, timestamp, temp, hum, debug=False):\n",
    "    # Add a temp/humidity reading to the database\n",
    "    with db as con:\n",
    "        cur = con.cursor()\n",
    "        if debug:\n",
    "            print(\"Adding DHT reading to DHT_data table: \", timestamp, temp, hum)\n",
    "        cur.execute(\"INSERT INTO DHT_data VALUES((?), (?), (?))\", (timestamp, temp, hum))"
   ]
  },
  {
   "cell_type": "code",
   "execution_count": 39,
   "metadata": {},
   "outputs": [
    {
     "name": "stdout",
     "output_type": "stream",
     "text": [
      "DHT_data table already exists\n"
     ]
    }
   ],
   "source": [
    "db = create_table('../db', debug=True)"
   ]
  },
  {
   "cell_type": "code",
   "execution_count": 41,
   "metadata": {},
   "outputs": [
    {
     "name": "stdout",
     "output_type": "stream",
     "text": [
      "Adding DHT reading to DHT_data table:  2020-12-11 23:38:45.068689 63.14 62.0\n"
     ]
    }
   ],
   "source": [
    "add_entry(db, dt.datetime.now(), t, h, debug=True)"
   ]
  },
  {
   "cell_type": "code",
   "execution_count": 35,
   "metadata": {},
   "outputs": [
    {
     "data": {
      "text/plain": [
       "True"
      ]
     },
     "execution_count": 35,
     "metadata": {},
     "output_type": "execute_result"
    }
   ],
   "source": [
    "os.path.isdir('../db')"
   ]
  },
  {
   "cell_type": "code",
   "execution_count": 34,
   "metadata": {},
   "outputs": [],
   "source": [
    "os.mkdir('../db')"
   ]
  }
 ],
 "metadata": {
  "kernelspec": {
   "display_name": "Python 3",
   "language": "python",
   "name": "python3"
  },
  "language_info": {
   "codemirror_mode": {
    "name": "ipython",
    "version": 3
   },
   "file_extension": ".py",
   "mimetype": "text/x-python",
   "name": "python",
   "nbconvert_exporter": "python",
   "pygments_lexer": "ipython3",
   "version": "3.7.3"
  }
 },
 "nbformat": 4,
 "nbformat_minor": 4
}
